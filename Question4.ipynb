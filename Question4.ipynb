{
 "cells": [
  {
   "cell_type": "markdown",
   "metadata": {},
   "source": [
    "# Seek Market Analysis\n",
    "#### Collaborators:\n",
    "James Rutherford - s5132147 - james.rutherford@griffithuni.edu.au  \n",
    "Zakaria Wardere - s5302830 - zakaria.wardere@griffithuni.edu.au"
   ]
  },
  {
   "cell_type": "markdown",
   "metadata": {},
   "source": [
    "## Part 4"
   ]
  }
 ],
 "metadata": {
  "language_info": {
   "name": "python"
  }
 },
 "nbformat": 4,
 "nbformat_minor": 2
}
