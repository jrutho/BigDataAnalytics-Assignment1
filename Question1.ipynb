{
 "cells": [
  {
   "cell_type": "markdown",
   "metadata": {},
   "source": [
    "# Seek Market Analysis\n",
    "#### Collaborators:\n",
    "James Rutherford - s5132147 - james.rutherford@griffithuni.edu.au  \n",
    "Zakaria Wardere - s5302830 - zakaria.wardere@griffithuni.edu.au"
   ]
  },
  {
   "cell_type": "code",
   "execution_count": 1,
   "metadata": {},
   "outputs": [],
   "source": [
    "import pandas as pd\n",
    "import numpy as np\n",
    "import matplotlib.pyplot as plt"
   ]
  },
  {
   "cell_type": "markdown",
   "metadata": {},
   "source": [
    "# Part 1"
   ]
  },
  {
   "cell_type": "markdown",
   "metadata": {},
   "source": [
    "Prepare the data and pre-process for future analysis."
   ]
  },
  {
   "cell_type": "markdown",
   "metadata": {},
   "source": [
    "## Importing the dataset and examining the first few rows of data."
   ]
  },
  {
   "cell_type": "code",
   "execution_count": 2,
   "metadata": {},
   "outputs": [
    {
     "name": "stderr",
     "output_type": "stream",
     "text": [
      "C:\\Users\\jruth\\AppData\\Local\\Temp\\ipykernel_10980\\1507164070.py:1: DtypeWarning: Columns (0,4,5,6,7) have mixed types. Specify dtype option on import or set low_memory=False.\n",
      "  df = pd.read_csv('data.csv')\n"
     ]
    }
   ],
   "source": [
    "df = pd.read_csv('data.csv')"
   ]
  },
  {
   "cell_type": "code",
   "execution_count": 3,
   "metadata": {},
   "outputs": [
    {
     "name": "stdout",
     "output_type": "stream",
     "text": [
      "The dataset contains: 318477  rows and  13  columns.\n"
     ]
    },
    {
     "data": {
      "text/html": [
       "<div>\n",
       "<style scoped>\n",
       "    .dataframe tbody tr th:only-of-type {\n",
       "        vertical-align: middle;\n",
       "    }\n",
       "\n",
       "    .dataframe tbody tr th {\n",
       "        vertical-align: top;\n",
       "    }\n",
       "\n",
       "    .dataframe thead th {\n",
       "        text-align: right;\n",
       "    }\n",
       "</style>\n",
       "<table border=\"1\" class=\"dataframe\">\n",
       "  <thead>\n",
       "    <tr style=\"text-align: right;\">\n",
       "      <th></th>\n",
       "      <th>Id</th>\n",
       "      <th>Title</th>\n",
       "      <th>Company</th>\n",
       "      <th>Date</th>\n",
       "      <th>Location</th>\n",
       "      <th>Area</th>\n",
       "      <th>Classification</th>\n",
       "      <th>SubClassification</th>\n",
       "      <th>Requirement</th>\n",
       "      <th>FullDescription</th>\n",
       "      <th>LowestSalary</th>\n",
       "      <th>HighestSalary</th>\n",
       "      <th>JobType</th>\n",
       "    </tr>\n",
       "  </thead>\n",
       "  <tbody>\n",
       "    <tr>\n",
       "      <th>0</th>\n",
       "      <td>37404348</td>\n",
       "      <td>Casual Stock Replenisher</td>\n",
       "      <td>Aldi Stores</td>\n",
       "      <td>2018-10-07T00:00:00.000Z</td>\n",
       "      <td>Sydney</td>\n",
       "      <td>North West &amp; Hills District</td>\n",
       "      <td>Retail &amp; Consumer Products</td>\n",
       "      <td>Retail Assistants</td>\n",
       "      <td>Our Casual Stock Replenishers pride themselves...</td>\n",
       "      <td>NaN</td>\n",
       "      <td>0</td>\n",
       "      <td>30</td>\n",
       "      <td>NaN</td>\n",
       "    </tr>\n",
       "    <tr>\n",
       "      <th>1</th>\n",
       "      <td>37404337</td>\n",
       "      <td>Casual Stock Replenisher</td>\n",
       "      <td>Aldi Stores</td>\n",
       "      <td>2018-10-07T00:00:00.000Z</td>\n",
       "      <td>Richmond &amp; Hawkesbury</td>\n",
       "      <td>NaN</td>\n",
       "      <td>Retail &amp; Consumer Products</td>\n",
       "      <td>Retail Assistants</td>\n",
       "      <td>Our Casual Stock Replenishers pride themselves...</td>\n",
       "      <td>NaN</td>\n",
       "      <td>0</td>\n",
       "      <td>30</td>\n",
       "      <td>NaN</td>\n",
       "    </tr>\n",
       "    <tr>\n",
       "      <th>2</th>\n",
       "      <td>37404356</td>\n",
       "      <td>RETAIL SALES SUPERSTARS and STYLISTS Wanted - ...</td>\n",
       "      <td>LB Creative Pty Ltd</td>\n",
       "      <td>2018-10-07T00:00:00.000Z</td>\n",
       "      <td>Brisbane</td>\n",
       "      <td>CBD &amp; Inner Suburbs</td>\n",
       "      <td>Retail &amp; Consumer Products</td>\n",
       "      <td>Retail Assistants</td>\n",
       "      <td>BRAND NEW FLAGSHIP STORE OPENING - SUNSHINE PLAZA</td>\n",
       "      <td>NaN</td>\n",
       "      <td>0</td>\n",
       "      <td>30</td>\n",
       "      <td>NaN</td>\n",
       "    </tr>\n",
       "    <tr>\n",
       "      <th>3</th>\n",
       "      <td>37404330</td>\n",
       "      <td>Team member - Belrose</td>\n",
       "      <td>Anaconda Group Pty Ltd</td>\n",
       "      <td>2018-10-07T00:00:00.000Z</td>\n",
       "      <td>Gosford &amp; Central Coast</td>\n",
       "      <td>NaN</td>\n",
       "      <td>Retail &amp; Consumer Products</td>\n",
       "      <td>Retail Assistants</td>\n",
       "      <td>Bring it on - do you love the great outdoors a...</td>\n",
       "      <td>NaN</td>\n",
       "      <td>0</td>\n",
       "      <td>30</td>\n",
       "      <td>NaN</td>\n",
       "    </tr>\n",
       "    <tr>\n",
       "      <th>4</th>\n",
       "      <td>37404308</td>\n",
       "      <td>Business Banking Contact Centre Specialist, Ni...</td>\n",
       "      <td>Commonwealth Bank - Business &amp; Private Banking</td>\n",
       "      <td>2018-10-07T00:00:00.000Z</td>\n",
       "      <td>Sydney</td>\n",
       "      <td>Ryde &amp; Macquarie Park</td>\n",
       "      <td>Call Centre &amp; Customer Service</td>\n",
       "      <td>Sales - Inbound</td>\n",
       "      <td>We are seeking highly articulate, enthusiastic...</td>\n",
       "      <td>NaN</td>\n",
       "      <td>0</td>\n",
       "      <td>30</td>\n",
       "      <td>NaN</td>\n",
       "    </tr>\n",
       "  </tbody>\n",
       "</table>\n",
       "</div>"
      ],
      "text/plain": [
       "         Id                                              Title  \\\n",
       "0  37404348                           Casual Stock Replenisher   \n",
       "1  37404337                           Casual Stock Replenisher   \n",
       "2  37404356  RETAIL SALES SUPERSTARS and STYLISTS Wanted - ...   \n",
       "3  37404330                              Team member - Belrose   \n",
       "4  37404308  Business Banking Contact Centre Specialist, Ni...   \n",
       "\n",
       "                                          Company                      Date  \\\n",
       "0                                     Aldi Stores  2018-10-07T00:00:00.000Z   \n",
       "1                                     Aldi Stores  2018-10-07T00:00:00.000Z   \n",
       "2                             LB Creative Pty Ltd  2018-10-07T00:00:00.000Z   \n",
       "3                          Anaconda Group Pty Ltd  2018-10-07T00:00:00.000Z   \n",
       "4  Commonwealth Bank - Business & Private Banking  2018-10-07T00:00:00.000Z   \n",
       "\n",
       "                  Location                         Area  \\\n",
       "0                   Sydney  North West & Hills District   \n",
       "1    Richmond & Hawkesbury                          NaN   \n",
       "2                 Brisbane          CBD & Inner Suburbs   \n",
       "3  Gosford & Central Coast                          NaN   \n",
       "4                   Sydney        Ryde & Macquarie Park   \n",
       "\n",
       "                   Classification  SubClassification  \\\n",
       "0      Retail & Consumer Products  Retail Assistants   \n",
       "1      Retail & Consumer Products  Retail Assistants   \n",
       "2      Retail & Consumer Products  Retail Assistants   \n",
       "3      Retail & Consumer Products  Retail Assistants   \n",
       "4  Call Centre & Customer Service    Sales - Inbound   \n",
       "\n",
       "                                         Requirement FullDescription  \\\n",
       "0  Our Casual Stock Replenishers pride themselves...             NaN   \n",
       "1  Our Casual Stock Replenishers pride themselves...             NaN   \n",
       "2  BRAND NEW FLAGSHIP STORE OPENING - SUNSHINE PLAZA             NaN   \n",
       "3  Bring it on - do you love the great outdoors a...             NaN   \n",
       "4  We are seeking highly articulate, enthusiastic...             NaN   \n",
       "\n",
       "   LowestSalary  HighestSalary JobType  \n",
       "0             0             30     NaN  \n",
       "1             0             30     NaN  \n",
       "2             0             30     NaN  \n",
       "3             0             30     NaN  \n",
       "4             0             30     NaN  "
      ]
     },
     "execution_count": 3,
     "metadata": {},
     "output_type": "execute_result"
    }
   ],
   "source": [
    "print(\"The dataset contains:\", df.shape[0], \" rows and \", df.shape[1], \" columns.\")\n",
    "df.head(5)"
   ]
  },
  {
   "cell_type": "markdown",
   "metadata": {},
   "source": [
    "## Checking the data time range of the dataset."
   ]
  },
  {
   "cell_type": "code",
   "execution_count": 4,
   "metadata": {},
   "outputs": [
    {
     "name": "stdout",
     "output_type": "stream",
     "text": [
      "The dataset contains data from  2018-10-01T00:00:00.000Z  to  2019-03-13T00:00:00.000Z\n"
     ]
    }
   ],
   "source": [
    "dateRange = df.sort_values('Date')['Date'].dropna().unique()\n",
    "startDate = dateRange[0]\n",
    "endDate = dateRange[-1]\n",
    "print(\"The dataset contains data from \", startDate, \" to \", endDate)"
   ]
  },
  {
   "cell_type": "markdown",
   "metadata": {},
   "source": [
    "## Checking for unique values in each column."
   ]
  },
  {
   "cell_type": "code",
   "execution_count": 5,
   "metadata": {},
   "outputs": [
    {
     "name": "stdout",
     "output_type": "stream",
     "text": [
      "The dataset contains the following unique values for each column:\n",
      "Id -> 318477\n",
      "Title -> 168065\n",
      "Company -> 40628\n",
      "Date -> 163\n",
      "Location -> 65\n",
      "Area -> 19\n",
      "Classification -> 30\n",
      "SubClassification -> 338\n",
      "Requirement -> 234287\n",
      "FullDescription -> 250901\n",
      "LowestSalary -> 11\n",
      "HighestSalary -> 11\n",
      "JobType -> 4\n"
     ]
    }
   ],
   "source": [
    "print(\"The dataset contains the following unique values for each column:\")\n",
    "for column in df.columns:\n",
    "    print(column, \"->\",df[column].nunique())"
   ]
  },
  {
   "cell_type": "markdown",
   "metadata": {},
   "source": [
    "## Checking for total values in each column."
   ]
  },
  {
   "cell_type": "code",
   "execution_count": 6,
   "metadata": {},
   "outputs": [
    {
     "name": "stdout",
     "output_type": "stream",
     "text": [
      "The dataset contains the following number of values for each column:\n",
      "Id -> 318477\n",
      "Title -> 318477\n",
      "Company -> 306473\n",
      "Date -> 318477\n",
      "Location -> 197229\n",
      "Area -> 122658\n",
      "Classification -> 197229\n",
      "SubClassification -> 197229\n",
      "Requirement -> 318470\n",
      "FullDescription -> 302302\n",
      "LowestSalary -> 318477\n",
      "HighestSalary -> 318477\n",
      "JobType -> 302379\n"
     ]
    }
   ],
   "source": [
    "print(\"The dataset contains the following number of values for each column:\")\n",
    "for column in df.columns:\n",
    "    print(column, \"->\",df[column].count())"
   ]
  },
  {
   "cell_type": "markdown",
   "metadata": {},
   "source": [
    "## Dataset Characteristics\n",
    "The dataset contains 318477 job postings from the Seek job search website. The timeframe of the job postings was between 01/10/2018 - 13/03/2019. Each job posting consists of 13 attributes, upon initial investigation of the dataset, we can see that there are missing values in a number of the columns. Also there was a data type warning flagged when loading the in dataset for the ID, Location, Area, Classification and Subclassification columns (0, 4, 5, 6, 7). This will be investigated further in the next section, along with the missing values.\n",
    "\n",
    "The 13 attributes that make up each job, the number of unique values and number of total values are as follows:\n",
    "| Attribute | No. of Variations | No. of Total Values |\n",
    "| --- | --- | --- |\n",
    "| ID | 318477 | 318477 |\n",
    "| Title | 168065 | 318477 |\n",
    "| Company | 40628 | 306473 |\n",
    "| Date | 163 | 318477 |\n",
    "| Location | 65 | 197229 |\n",
    "| Area | 19 | 122658 |\n",
    "| Classification | 30 | 197229 |\n",
    "| Sub-Classification | 338 | 197229 |\n",
    "| Requirements | 234287 | 318470 |\n",
    "| Full Description | 250901 | 302302 |\n",
    "| Lowest Salary | 11 | 318477 |\n",
    "| Highest Salary | 11 | 318477 |\n",
    "| Job Type | 4 | 302379 |\n",
    "\n",
    "- The **ID** column has 318,477 unique values and 318,477 total values. Each ID is specific to a job posting on Seek, making this column mostly useless for the index. Therefore, it will be dropped in the next section. (Type: Identifier)\n",
    "- The **Title** column's high variation indicates diverse job titles, which may prove analysis on this variable fruitless as the variations arise from similar jobs listed under different titles by different companies. (Type: Categorical)\n",
    "- The **Company** column has high variation and this suggests a wide range of companies posting job ads, useful for analyzing job postings across companies or identifying popular jobs by location or sector. (Type: Categorical)\n",
    "- The **Date** column specifies the job posting date, useful for analyzing trends over time. However, the limited timeframe restricts long-term trend analysis. (Type: Date/Time)\n",
    "- The **Location** column has 65 unique values and 197,229 total values. It specifies job locations, useful for geographical analysis to determine job market sizes in various locations. (Type: Categorical)\n",
    "- The **Area** column has 19 unique values and 122,658 total values. It represents sub-regions within main locations, allowing for granular geographical analysis and understanding job distribution within broader regions. However, there is a significant amount of data missing and the area may only be present in larger cities. (Type: Categorical)\n",
    "- The **Classification** column has 30 unique and categorizes jobs into different sectors, vital for sector-wise analysis to identify which sectors have the most job postings. (Type: Categorical)\n",
    "- The **Sub-Classification** column has 338 unique values and 197,229 total values. It provides detailed categorization within main classifications, allowing deeper analysis of specific job roles within broader sectors. (Type: Categorical)\n",
    "- The **Requirements** column has 234,287 unique values and 318,470 total values. It lists job requirements, useful for revealing common skills and qualifications demanded by employers, valuable for job seekers and educational institutions. (Type: Text)\n",
    "- The **Full Description** column has 250,901 unique values and 302,302 total values. It contains detailed job descriptions, providing insights into job roles, responsibilities, and specific job-related terms and phrases. (Type: Text)\n",
    "- The **Lowest Salary** and **Highest Salary** columns have 11 unique values and 318,477 total values. It shows the minimum/maximum salary offered, helping to understand lower/upper bounds of compensation to analyze salary disparities. (Type: Numerical)\n",
    "- The **Job Type** column has 4 unique values and categorizes jobs by type (e.g., full-time, part-time, contract), useful for understanding the distribution of employment types and analyzing potential relationships between salaries and job types. (Type: Categorical)"
   ]
  },
  {
   "cell_type": "markdown",
   "metadata": {},
   "source": [
    "## Data Prep and Preprocessing"
   ]
  },
  {
   "cell_type": "markdown",
   "metadata": {},
   "source": [
    "Removing the Id column as it is not needed for the analysis."
   ]
  },
  {
   "cell_type": "code",
   "execution_count": 7,
   "metadata": {},
   "outputs": [
    {
     "name": "stdout",
     "output_type": "stream",
     "text": [
      "Removing the Id column changs the df shape from:  13  to  12\n"
     ]
    }
   ],
   "source": [
    "print('Removing the Id column changs the df shape from: ', df.shape[1], ' to ', df.drop('Id', axis=1).shape[1])\n",
    "df.drop('Id', axis=1, inplace=True)"
   ]
  },
  {
   "cell_type": "markdown",
   "metadata": {},
   "source": [
    "### Checking data types"
   ]
  },
  {
   "cell_type": "code",
   "execution_count": 8,
   "metadata": {},
   "outputs": [
    {
     "data": {
      "text/plain": [
       "Title                object\n",
       "Company              object\n",
       "Date                 object\n",
       "Location             object\n",
       "Area                 object\n",
       "Classification       object\n",
       "SubClassification    object\n",
       "Requirement          object\n",
       "FullDescription      object\n",
       "LowestSalary          int64\n",
       "HighestSalary         int64\n",
       "JobType              object\n",
       "dtype: object"
      ]
     },
     "execution_count": 8,
     "metadata": {},
     "output_type": "execute_result"
    }
   ],
   "source": [
    "df.dtypes"
   ]
  },
  {
   "cell_type": "markdown",
   "metadata": {},
   "source": [
    "The Date column is currently an object data type, this will be converted to a datetime data type for further analysis and more ease of use."
   ]
  },
  {
   "cell_type": "code",
   "execution_count": 9,
   "metadata": {},
   "outputs": [
    {
     "data": {
      "text/plain": [
       "datetime64[ns, UTC]"
      ]
     },
     "execution_count": 9,
     "metadata": {},
     "output_type": "execute_result"
    }
   ],
   "source": [
    "df['Date'] = pd.to_datetime(df['Date'], errors='coerce')\n",
    "df['Date'].dtype"
   ]
  },
  {
   "cell_type": "markdown",
   "metadata": {},
   "source": [
    "### Adding Salary Range Column\n",
    "This is done to assist in analysis further down the line."
   ]
  },
  {
   "cell_type": "code",
   "execution_count": 10,
   "metadata": {},
   "outputs": [
    {
     "data": {
      "text/html": [
       "<div>\n",
       "<style scoped>\n",
       "    .dataframe tbody tr th:only-of-type {\n",
       "        vertical-align: middle;\n",
       "    }\n",
       "\n",
       "    .dataframe tbody tr th {\n",
       "        vertical-align: top;\n",
       "    }\n",
       "\n",
       "    .dataframe thead th {\n",
       "        text-align: right;\n",
       "    }\n",
       "</style>\n",
       "<table border=\"1\" class=\"dataframe\">\n",
       "  <thead>\n",
       "    <tr style=\"text-align: right;\">\n",
       "      <th></th>\n",
       "      <th>HighestSalary</th>\n",
       "      <th>LowestSalary</th>\n",
       "      <th>SalaryRange</th>\n",
       "    </tr>\n",
       "  </thead>\n",
       "  <tbody>\n",
       "    <tr>\n",
       "      <th>0</th>\n",
       "      <td>30</td>\n",
       "      <td>0</td>\n",
       "      <td>30</td>\n",
       "    </tr>\n",
       "    <tr>\n",
       "      <th>1</th>\n",
       "      <td>30</td>\n",
       "      <td>0</td>\n",
       "      <td>30</td>\n",
       "    </tr>\n",
       "    <tr>\n",
       "      <th>2</th>\n",
       "      <td>30</td>\n",
       "      <td>0</td>\n",
       "      <td>30</td>\n",
       "    </tr>\n",
       "    <tr>\n",
       "      <th>3</th>\n",
       "      <td>30</td>\n",
       "      <td>0</td>\n",
       "      <td>30</td>\n",
       "    </tr>\n",
       "    <tr>\n",
       "      <th>4</th>\n",
       "      <td>30</td>\n",
       "      <td>0</td>\n",
       "      <td>30</td>\n",
       "    </tr>\n",
       "  </tbody>\n",
       "</table>\n",
       "</div>"
      ],
      "text/plain": [
       "   HighestSalary  LowestSalary  SalaryRange\n",
       "0             30             0           30\n",
       "1             30             0           30\n",
       "2             30             0           30\n",
       "3             30             0           30\n",
       "4             30             0           30"
      ]
     },
     "execution_count": 10,
     "metadata": {},
     "output_type": "execute_result"
    }
   ],
   "source": [
    "df['SalaryRange'] = df['HighestSalary'] - df['LowestSalary']\n",
    "df[['HighestSalary', 'LowestSalary', 'SalaryRange']].head()"
   ]
  },
  {
   "cell_type": "markdown",
   "metadata": {},
   "source": [
    "## Check Duplicates and Missing Data"
   ]
  },
  {
   "cell_type": "markdown",
   "metadata": {},
   "source": [
    "### Duplicates"
   ]
  },
  {
   "cell_type": "code",
   "execution_count": 11,
   "metadata": {},
   "outputs": [
    {
     "name": "stdout",
     "output_type": "stream",
     "text": [
      "The dataset contains  8607  duplicates.\n"
     ]
    }
   ],
   "source": [
    "# Check for duplicates in each column\n",
    "dup_count = df[df.duplicated()].shape[0]\n",
    "print(\"The dataset contains \", dup_count, \" duplicates.\")"
   ]
  },
  {
   "cell_type": "markdown",
   "metadata": {},
   "source": [
    "This is a small enough amount of samples in comparison to the size of the dataset that you can't conclusively say it is duplicates. Companies could be advertising the same job multiple times. As a result, these will be left as is."
   ]
  },
  {
   "cell_type": "markdown",
   "metadata": {},
   "source": [
    "### Missing Data"
   ]
  },
  {
   "cell_type": "code",
   "execution_count": 12,
   "metadata": {},
   "outputs": [
    {
     "data": {
      "image/png": "[encoded data removed]",
      "text/plain": [
       "<Figure size 2000x1000 with 1 Axes>"
      ]
     },
     "metadata": {},
     "output_type": "display_data"
    }
   ],
   "source": [
    "def get_gradient_color(value, max_value):\n",
    "    normalized_value = value / max_value\n",
    "    red = min(1, 2 * normalized_value)  # Gradient black -> red\n",
    "    green = min(1, 2 * (1 - normalized_value))  # Gradient black -> green\n",
    "    return (red, green, 0)\n",
    "\n",
    "nulls = df.isnull().sum()\n",
    "cols = [get_gradient_color(n, nulls.max()) for n in nulls]\n",
    "\n",
    "total_data = [df.shape[0]] * df.shape[1]\n",
    "\n",
    "plt.figure(figsize=(20, 10))\n",
    "plt.barh(df.columns.values, total_data, color='aliceblue')\n",
    "\n",
    "for idx, (column, null_count, color) in enumerate(zip(df.columns.values, nulls, cols)):\n",
    "    plt.barh(column, null_count, color=color, edgecolor='none')\n",
    "\n",
    "plt.ylabel('Attribute', size=14)\n",
    "plt.xlabel('Missing data vs. existing', size=14)\n",
    "plt.title('Missing data in dataset', size=20)\n",
    "\n",
    "plt.show()"
   ]
  },
  {
   "cell_type": "markdown",
   "metadata": {},
   "source": [
    "### Find the proportion of missing data in each column"
   ]
  },
  {
   "cell_type": "code",
   "execution_count": 13,
   "metadata": {},
   "outputs": [
    {
     "name": "stdout",
     "output_type": "stream",
     "text": [
      "Missing data in attributes:\n",
      "Company -> 3.769 %\n",
      "Location -> 38.071 %\n",
      "Area -> 61.486 %\n",
      "Classification -> 38.071 %\n",
      "SubClassification -> 38.071 %\n",
      "Requirement -> 0.002 %\n",
      "FullDescription -> 5.079 %\n",
      "JobType -> 5.055 %\n"
     ]
    }
   ],
   "source": [
    "total_jobs = df.shape[0]\n",
    "print('Missing data in attributes:')\n",
    "for column, null_count in zip(df.columns.values, nulls):\n",
    "    if null_count > 0:\n",
    "        print(column, '->', round(null_count / total_jobs * 100, 3), '%')"
   ]
  },
  {
   "cell_type": "markdown",
   "metadata": {},
   "source": [
    "### Observations\n",
    "- There is a significant amount of missing data in this set. \n",
    "- The columns with the most missing data are the Area, Location, Classification, and Sub-Classification columns. \n",
    "- Area appears to be a more specific subset of the Location column and as such, it is not surprising that it has a significant amount of missing data. This is because it appears to refer to Area's within a Location (i.e.: a surburb within a city), and this would only really be applicable to the larger Locations in Australia where such a thing is possible. This will be confirmed or debunked later. \n",
    "- The Classification and Sub-Classification columns are also missing a significant amount of data, which is surprising as these are the columns that are used to categorize the job postings.\n",
    "- It is worth noting that it is strange that Location, Classification and SubClassification have the same percentage of missing data. This could be due to remote working jobs being uncategorised."
   ]
  },
  {
   "cell_type": "markdown",
   "metadata": {},
   "source": [
    "### Investigation missing area"
   ]
  },
  {
   "cell_type": "code",
   "execution_count": 14,
   "metadata": {},
   "outputs": [
    {
     "name": "stdout",
     "output_type": "stream",
     "text": [
      "The dataset contains  4  unique values where both Area and Location columns are missing.\n",
      "['Sydney' 'Brisbane' 'Melbourne' 'Perth']\n"
     ]
    }
   ],
   "source": [
    "df_missing = df[df['Area'].notnull() & df['Location'].notnull()]\n",
    "print(\"The dataset contains \", df_missing['Location'].nunique(), \" unique values where both Area and Location columns are missing.\")\n",
    "print(df_missing['Location'].unique())"
   ]
  },
  {
   "cell_type": "markdown",
   "metadata": {},
   "source": [
    "### Observations\n",
    "- This confirms the hypothesis I posed before where the Area column is only present in larger cities where there are suburbs. This is why there is a significant amount of missing data in this column."
   ]
  },
  {
   "cell_type": "markdown",
   "metadata": {},
   "source": [
    "### Investigating missing Location, Classification, and Sub-Classification"
   ]
  },
  {
   "cell_type": "code",
   "execution_count": 15,
   "metadata": {},
   "outputs": [
    {
     "name": "stderr",
     "output_type": "stream",
     "text": [
      "C:\\Users\\jruth\\AppData\\Local\\Temp\\ipykernel_10980\\2707101635.py:17: UserWarning: FixedFormatter should only be used together with FixedLocator\n",
      "  plt.gca().xaxis.set_major_formatter(plt.FixedFormatter(missing_data_counts.index.strftime('%Y-%m-%d')[::7]))\n"
     ]
    },
    {
     "data": {
      "image/png": "[encoded data removed]",
      "text/plain": [
       "<Figure size 1200x600 with 1 Axes>"
      ]
     },
     "metadata": {},
     "output_type": "display_data"
    }
   ],
   "source": [
    "# Identify missing values in 'Location', 'Classification', and 'SubClassification' and check if they are the same rows\n",
    "missing_location = df['Location'].isna()\n",
    "missing_classification = df['Classification'].isna()\n",
    "missing_subclassification = df['SubClassification'].isna()\n",
    "same_missing = missing_location & missing_classification & missing_subclassification\n",
    "\n",
    "missing_data_dates = df[same_missing]['Date']\n",
    "missing_data_counts = missing_data_dates.value_counts().sort_index()\n",
    "\n",
    "full_date_range = pd.date_range(start=df['Date'].min(), end=df['Date'].max())\n",
    "missing_data_counts = missing_data_counts.reindex(full_date_range, fill_value=0)\n",
    "\n",
    "plt.figure(figsize=(12, 6))\n",
    "missing_data_counts.plot(kind='bar')\n",
    "\n",
    "plt.gca().xaxis.set_major_locator(plt.MultipleLocator(7))\n",
    "plt.gca().xaxis.set_major_formatter(plt.FixedFormatter(missing_data_counts.index.strftime('%Y-%m-%d')[::7]))\n",
    "\n",
    "plt.xlabel('Date')\n",
    "plt.ylabel('Number of Missing Entries')\n",
    "plt.title('Pattern of Missing Data Over Time')\n",
    "plt.xticks(rotation=45)\n",
    "plt.tight_layout()\n",
    "plt.show()"
   ]
  },
  {
   "cell_type": "markdown",
   "metadata": {},
   "source": [
    "### Oberservations\n",
    "- Interestingly, the missing data in these 3 columns begins after a certain date which could suggest that something changed in how the data stored on Seek was recorded. This could be due to a change in the website or a change in the way the data was stored. Alternately, it could be due to a change in the way the data was collected by the scraper or even purely just a coincidence.\n",
    "- These missing values will be removed from the dataset as they are not useful for analysis. This is not a major issue as there is still a significant amount of data left.\n",
    "- Additionally, if the dataframe was cut to only include data before the missing values began, it would be cutting out a significant amount of data which would not be beneficial for the analysis and hinder and temporal pattern mining essentially useless as there would only be approx 2 months of data to work with."
   ]
  },
  {
   "cell_type": "code",
   "execution_count": 16,
   "metadata": {},
   "outputs": [
    {
     "name": "stdout",
     "output_type": "stream",
     "text": [
      "The original dataset contains  318477  rows and  13  columns.\n",
      "The new dataset contains  111109  rows and  13  columns.\n",
      "Number of missing values remaining in each attribute for the new dataframe:\n",
      "Title -> 0.0 %\n",
      "Company -> 0.0 %\n",
      "Date -> 0.0 %\n",
      "Location -> 0.0 %\n",
      "Area -> 0.0 %\n",
      "Classification -> 0.0 %\n",
      "SubClassification -> 0.0 %\n",
      "Requirement -> 0.0 %\n",
      "FullDescription -> 0.0 %\n",
      "LowestSalary -> 0.0 %\n",
      "HighestSalary -> 0.0 %\n",
      "JobType -> 0.0 %\n",
      "SalaryRange -> 0.0 %\n"
     ]
    }
   ],
   "source": [
    "# Remove missing values from df and add to new dataframe\n",
    "new_df = df.dropna()\n",
    "print(\"The original dataset contains \", df.shape[0], \" rows and \", df.shape[1], \" columns.\")\n",
    "print(\"The new dataset contains \", new_df.shape[0], \" rows and \", new_df.shape[1], \" columns.\")\n",
    "print('Number of missing values remaining in each attribute for the new dataframe:')\n",
    "for column in new_df.columns:\n",
    "    print(column, '->', round(new_df[column].isna().sum() / total_jobs * 100, 3), '%')"
   ]
  },
  {
   "cell_type": "markdown",
   "metadata": {},
   "source": [
    "### Investigate outliers in HighestSalary"
   ]
  },
  {
   "cell_type": "code",
   "execution_count": 17,
   "metadata": {},
   "outputs": [
    {
     "data": {
      "text/html": [
       "<div>\n",
       "<style scoped>\n",
       "    .dataframe tbody tr th:only-of-type {\n",
       "        vertical-align: middle;\n",
       "    }\n",
       "\n",
       "    .dataframe tbody tr th {\n",
       "        vertical-align: top;\n",
       "    }\n",
       "\n",
       "    .dataframe thead th {\n",
       "        text-align: right;\n",
       "    }\n",
       "</style>\n",
       "<table border=\"1\" class=\"dataframe\">\n",
       "  <thead>\n",
       "    <tr style=\"text-align: right;\">\n",
       "      <th></th>\n",
       "      <th>Title</th>\n",
       "      <th>Company</th>\n",
       "      <th>Date</th>\n",
       "      <th>Location</th>\n",
       "      <th>Area</th>\n",
       "      <th>Classification</th>\n",
       "      <th>SubClassification</th>\n",
       "      <th>Requirement</th>\n",
       "      <th>FullDescription</th>\n",
       "      <th>LowestSalary</th>\n",
       "      <th>HighestSalary</th>\n",
       "      <th>JobType</th>\n",
       "      <th>SalaryRange</th>\n",
       "    </tr>\n",
       "  </thead>\n",
       "  <tbody>\n",
       "    <tr>\n",
       "      <th>22979</th>\n",
       "      <td>General Manager</td>\n",
       "      <td>AIMS International Executive Search</td>\n",
       "      <td>2018-10-05 00:00:00+00:00</td>\n",
       "      <td>Sydney</td>\n",
       "      <td>CBD, Inner West &amp; Eastern Suburbs</td>\n",
       "      <td>CEO &amp; General Management</td>\n",
       "      <td>General/Business Unit Manager</td>\n",
       "      <td>• Specially FMCG Products Experience • Must ha...</td>\n",
       "      <td>&lt;ul&gt;\\n            &lt;li&gt;&lt;strong&gt;Specially FMCG P...</td>\n",
       "      <td>200</td>\n",
       "      <td>999</td>\n",
       "      <td>Full Time</td>\n",
       "      <td>799</td>\n",
       "    </tr>\n",
       "    <tr>\n",
       "      <th>22980</th>\n",
       "      <td>Chief Operating Officer</td>\n",
       "      <td>AIMS International Executive Search</td>\n",
       "      <td>2018-10-05 00:00:00+00:00</td>\n",
       "      <td>Brisbane</td>\n",
       "      <td>CBD &amp; Inner Suburbs</td>\n",
       "      <td>CEO &amp; General Management</td>\n",
       "      <td>COO &amp; MD</td>\n",
       "      <td>Automotive Aftermarket Products • ASX Business...</td>\n",
       "      <td>&lt;ul&gt;\\n            &lt;li&gt;&lt;strong&gt;Automotive After...</td>\n",
       "      <td>200</td>\n",
       "      <td>999</td>\n",
       "      <td>Full Time</td>\n",
       "      <td>799</td>\n",
       "    </tr>\n",
       "    <tr>\n",
       "      <th>22981</th>\n",
       "      <td>Managing Director</td>\n",
       "      <td>AIMS International Executive Search</td>\n",
       "      <td>2018-10-05 00:00:00+00:00</td>\n",
       "      <td>Brisbane</td>\n",
       "      <td>CBD &amp; Inner Suburbs</td>\n",
       "      <td>CEO &amp; General Management</td>\n",
       "      <td>CEO</td>\n",
       "      <td>• Base Salary to $280K plus Bonus • Property a...</td>\n",
       "      <td>&lt;ul&gt;\\n            &lt;li&gt;&lt;strong&gt;Base Salary to $...</td>\n",
       "      <td>200</td>\n",
       "      <td>999</td>\n",
       "      <td>Full Time</td>\n",
       "      <td>799</td>\n",
       "    </tr>\n",
       "    <tr>\n",
       "      <th>22982</th>\n",
       "      <td>CHIEF INFORMATION OFFICER</td>\n",
       "      <td>Hender Consulting</td>\n",
       "      <td>2018-10-04 00:00:00+00:00</td>\n",
       "      <td>West Gippsland &amp; Latrobe Valley</td>\n",
       "      <td>NaN</td>\n",
       "      <td>CEO &amp; General Management</td>\n",
       "      <td>General/Business Unit Manager</td>\n",
       "      <td>Pivotal IT leadership role with well establish...</td>\n",
       "      <td>&lt;p&gt;&lt;strong&gt;Latrobe Health Services&lt;/strong&gt;&lt;/p...</td>\n",
       "      <td>200</td>\n",
       "      <td>999</td>\n",
       "      <td>Full Time</td>\n",
       "      <td>799</td>\n",
       "    </tr>\n",
       "    <tr>\n",
       "      <th>22983</th>\n",
       "      <td>CHIEF INFORMATION OFFICER</td>\n",
       "      <td>Hender Consulting</td>\n",
       "      <td>2018-10-04 00:00:00+00:00</td>\n",
       "      <td>Bairnsdale &amp; Gippsland</td>\n",
       "      <td>NaN</td>\n",
       "      <td>CEO &amp; General Management</td>\n",
       "      <td>General/Business Unit Manager</td>\n",
       "      <td>Pivotal IT leadership role with well establish...</td>\n",
       "      <td>&lt;p&gt;&lt;strong&gt;Latrobe Health Services&lt;/strong&gt;&lt;/p...</td>\n",
       "      <td>200</td>\n",
       "      <td>999</td>\n",
       "      <td>Full Time</td>\n",
       "      <td>799</td>\n",
       "    </tr>\n",
       "  </tbody>\n",
       "</table>\n",
       "</div>"
      ],
      "text/plain": [
       "                           Title                              Company  \\\n",
       "22979            General Manager  AIMS International Executive Search   \n",
       "22980    Chief Operating Officer  AIMS International Executive Search   \n",
       "22981          Managing Director  AIMS International Executive Search   \n",
       "22982  CHIEF INFORMATION OFFICER                    Hender Consulting   \n",
       "22983  CHIEF INFORMATION OFFICER                    Hender Consulting   \n",
       "\n",
       "                           Date                         Location  \\\n",
       "22979 2018-10-05 00:00:00+00:00                           Sydney   \n",
       "22980 2018-10-05 00:00:00+00:00                         Brisbane   \n",
       "22981 2018-10-05 00:00:00+00:00                         Brisbane   \n",
       "22982 2018-10-04 00:00:00+00:00  West Gippsland & Latrobe Valley   \n",
       "22983 2018-10-04 00:00:00+00:00           Bairnsdale & Gippsland   \n",
       "\n",
       "                                    Area            Classification  \\\n",
       "22979  CBD, Inner West & Eastern Suburbs  CEO & General Management   \n",
       "22980                CBD & Inner Suburbs  CEO & General Management   \n",
       "22981                CBD & Inner Suburbs  CEO & General Management   \n",
       "22982                                NaN  CEO & General Management   \n",
       "22983                                NaN  CEO & General Management   \n",
       "\n",
       "                   SubClassification  \\\n",
       "22979  General/Business Unit Manager   \n",
       "22980                       COO & MD   \n",
       "22981                            CEO   \n",
       "22982  General/Business Unit Manager   \n",
       "22983  General/Business Unit Manager   \n",
       "\n",
       "                                             Requirement  \\\n",
       "22979  • Specially FMCG Products Experience • Must ha...   \n",
       "22980  Automotive Aftermarket Products • ASX Business...   \n",
       "22981  • Base Salary to $280K plus Bonus • Property a...   \n",
       "22982  Pivotal IT leadership role with well establish...   \n",
       "22983  Pivotal IT leadership role with well establish...   \n",
       "\n",
       "                                         FullDescription  LowestSalary  \\\n",
       "22979  <ul>\\n            <li><strong>Specially FMCG P...           200   \n",
       "22980  <ul>\\n            <li><strong>Automotive After...           200   \n",
       "22981  <ul>\\n            <li><strong>Base Salary to $...           200   \n",
       "22982  <p><strong>Latrobe Health Services</strong></p...           200   \n",
       "22983  <p><strong>Latrobe Health Services</strong></p...           200   \n",
       "\n",
       "       HighestSalary    JobType  SalaryRange  \n",
       "22979            999  Full Time          799  \n",
       "22980            999  Full Time          799  \n",
       "22981            999  Full Time          799  \n",
       "22982            999  Full Time          799  \n",
       "22983            999  Full Time          799  "
      ]
     },
     "execution_count": 17,
     "metadata": {},
     "output_type": "execute_result"
    }
   ],
   "source": [
    "# Plot salary range by location\n",
    "highest_salary_jobs = df[df['HighestSalary'] > 900]\n",
    "highest_salary_jobs.head()"
   ]
  },
  {
   "cell_type": "markdown",
   "metadata": {},
   "source": [
    "### Observations\n",
    "- Data must only go to 999k and anything over this value must be stored as 999k.\n",
    "- This makes sense as the positons appears to be very high level and salary would be dependant on experience and qualifications. Often these sorts of high level positions could have a salary of well and truly over 999k and so they will not be removed from the dataset."
   ]
  },
  {
   "cell_type": "code",
   "execution_count": 18,
   "metadata": {},
   "outputs": [],
   "source": [
    "df.to_csv('data_cleaned.csv', index=False)"
   ]
  },
  {
   "cell_type": "markdown",
   "metadata": {},
   "source": [
    "## Data Preprocessing Summary\n",
    "During this section, the data was cleaned and preprocessed so that further exploratory analysis could be done with ease. Data cleaning is crucial in analysis as it ensures that the data is accurate and reliable. The following steps were taken to prepare the data for further analysis:  \n",
    "### **Data Types:**\n",
    "- Converted the Date column to a datetime data type for further analysis.  \n",
    "- Everything else was as it should be.\n",
    "### **Attributes:**\n",
    "- The ID column was removed as it was not needed for analysis.\n",
    "- A Salary Range column was added to assist in analysis.  \n",
    "### **Duplicate Data:**\n",
    "- Checked for duplicate data and found 8607 duplicate rows which have not been removed. This was justified as companies could be advertising the same job multiple times and such a small number of duplicates would not significantly affect the analysis.  \n",
    "### **Missing Data:**\n",
    "- Area contianed a significant amount of missing data which was expected as it appears to be a more specific subset of the Location column and would only be applicable to larger Locations in Australia.\n",
    "- Classification, Sub-Classification, Location also contained large amounts of missing data. This was surprising as Classification and Sub-Classification are used to describe the job posting.\n",
    "- The missing data was removed from the data set as there was still a significant amount of data left after removal that meaningful analysis could be done on.  \n",
    "### **Outlier Analysis:**\n",
    "- Investigated the Highest Salary column for outliers and found that the highest salary was 999k. This was deemed not an outlier and will not be removed as the column appeared to have a hard cap of 999k."
   ]
  },
  {
   "cell_type": "markdown",
   "metadata": {},
   "source": [
    "## Hypothesis\n",
    "- We are expecting the job market to be quite diverse with a large number of job postings in a variety of sectors. However, we are expecting the IT sector to have the most job postings as it is a rapidly growing sector in Australia. Additionally we are anticipating the Trade sector to have a large number of job postings as it is a sector that is always in demand.\n",
    "- We are also expecting the job market to be quite competitive with a large number of job postings in the major cities such as Sydney, Melbourne, Perth and Brisbane - particularly along the east coast of Australia.\n",
    "- Due to more jobs in the major cities, we would expect higher salaries to match with the competitive nature.\n",
    "- We are expecting the IT, Health, Management and Consultancy sectors to be the highest performing in terms of average salaries."
   ]
  }
 ],
 "metadata": {
  "kernelspec": {
   "display_name": "Python 3",
   "language": "python",
   "name": "python3"
  },
  "language_info": {
   "codemirror_mode": {
    "name": "ipython",
    "version": 3
   },
   "file_extension": ".py",
   "mimetype": "text/x-python",
   "name": "python",
   "nbconvert_exporter": "python",
   "pygments_lexer": "ipython3",
   "version": "3.10.11"
  }
 },
 "nbformat": 4,
 "nbformat_minor": 2
}
